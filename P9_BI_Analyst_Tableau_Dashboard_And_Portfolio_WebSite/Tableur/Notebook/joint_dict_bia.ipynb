{
 "cells": [
  {
   "cell_type": "code",
   "execution_count": null,
   "metadata": {},
   "outputs": [],
   "source": [
    "# Bibliothèques générales\n",
    "import pandas as pd, numpy as np, datetime as dt, time\n",
    "from pandas.api.types import CategoricalDtype\n",
    "from IPython.display import display"
   ]
  },
  {
   "cell_type": "code",
   "execution_count": null,
   "metadata": {},
   "outputs": [],
   "source": [
    "pd.set_option('display.width', None)\n",
    "pd.set_option('display.max_columns', None)\n",
    "pd.set_option('display.max_rows', 200)"
   ]
  },
  {
   "cell_type": "code",
   "execution_count": null,
   "metadata": {},
   "outputs": [],
   "source": [
    "data1 = pd.read_excel('BIA_Skills_Acquisition.xlsx')\n",
    "data2 = pd.read_excel('Dictionnaire_des_données.xlsx')\n",
    "\n",
    "display(data1)\n",
    "display(data2)"
   ]
  },
  {
   "cell_type": "code",
   "execution_count": null,
   "metadata": {},
   "outputs": [],
   "source": [
    "# Fusionner les DataFrames\n",
    "data_combined = pd.concat([data1, data2], ignore_index=True)"
   ]
  },
  {
   "cell_type": "code",
   "execution_count": null,
   "metadata": {},
   "outputs": [],
   "source": [
    "# Créez un objet ExcelWriter\n",
    "writer = pd.ExcelWriter('Data_BI.xlsx', engine='xlsxwriter')\n",
    "# Écrivez les DataFrames dans les feuilles correspondantes\n",
    "data1.to_excel(writer, sheet_name='skill_mapping', index=False)\n",
    "data2.to_excel(writer, sheet_name='Data_Dict', index=False)\n",
    "# Fermez l'objet ExcelWriter pour enregistrer le fichier\n",
    "writer.close()"
   ]
  }
 ],
 "metadata": {
  "kernelspec": {
   "display_name": "Python 3",
   "language": "python",
   "name": "python3"
  },
  "language_info": {
   "codemirror_mode": {
    "name": "ipython",
    "version": 3
   },
   "file_extension": ".py",
   "mimetype": "text/x-python",
   "name": "python",
   "nbconvert_exporter": "python",
   "pygments_lexer": "ipython3",
   "version": "3.12.0"
  }
 },
 "nbformat": 4,
 "nbformat_minor": 2
}
