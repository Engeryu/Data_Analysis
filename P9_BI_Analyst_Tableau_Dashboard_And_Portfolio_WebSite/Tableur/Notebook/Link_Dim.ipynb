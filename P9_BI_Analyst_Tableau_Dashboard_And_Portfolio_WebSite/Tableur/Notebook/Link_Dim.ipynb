{
 "cells": [
  {
   "cell_type": "code",
   "execution_count": null,
   "metadata": {},
   "outputs": [],
   "source": [
    "# Bibliothèques générales\n",
    "import pandas as pd, numpy as np, datetime as dt, time\n",
    "from pandas.api.types import CategoricalDtype\n",
    "from IPython.display import display"
   ]
  },
  {
   "cell_type": "code",
   "execution_count": null,
   "metadata": {},
   "outputs": [],
   "source": [
    "pd.set_option('display.width', None)\n",
    "pd.set_option('display.max_columns', None)\n",
    "pd.set_option('display.max_rows', 200)"
   ]
  },
  {
   "cell_type": "code",
   "execution_count": null,
   "metadata": {},
   "outputs": [],
   "source": [
    "acquis = pd.read_excel('Analyst_DataBase.xlsx', sheet_name=None)\n",
    "# Lister les noms des feuilles de calcul\n",
    "feuilles = acquis.keys()\n",
    "# Afficher les noms des feuilles\n",
    "for feuille, df in acquis.items():\n",
    "    print(f\"Feuille : {feuille}\")\n",
    "    print(sorted(df.columns))"
   ]
  },
  {
   "cell_type": "code",
   "execution_count": null,
   "metadata": {},
   "outputs": [],
   "source": [
    "# Boucle pour chaque feuille\n",
    "for feuille, df in acquis.items():\n",
    "    # Réinitialiser l'index et ajouter une nouvelle colonne d'index\n",
    "    df.reset_index(drop=True, inplace=True)\n",
    "    print(f\"Feuille : {feuille} - Index réinitialisé avec succès !\")\n",
    "\n",
    "# Vérification\n",
    "print(\"\\nVérification des premières lignes de chaque feuille :\")\n",
    "for feuille, df in acquis.items():\n",
    "    print(f\"\\nFeuille : {feuille}\")\n",
    "    display(df.head())"
   ]
  },
  {
   "cell_type": "code",
   "execution_count": null,
   "metadata": {},
   "outputs": [],
   "source": [
    "# Supposons que vous ayez déjà lu les feuilles dans un dictionnaire \"acquis\"\n",
    "# Utilisez la méthode merge avec left_index=True et right_index=True\n",
    "acquis['Skills_Link'] = pd.merge(acquis['SkillTypes_Dim'], acquis['Skills_Dim'], left_index=True, right_index=True)"
   ]
  },
  {
   "cell_type": "code",
   "execution_count": null,
   "metadata": {},
   "outputs": [],
   "source": [
    "display(acquis['Skills_Link'])"
   ]
  }
 ],
 "metadata": {
  "kernelspec": {
   "display_name": "Python 3",
   "language": "python",
   "name": "python3"
  },
  "language_info": {
   "codemirror_mode": {
    "name": "ipython",
    "version": 3
   },
   "file_extension": ".py",
   "mimetype": "text/x-python",
   "name": "python",
   "nbconvert_exporter": "python",
   "pygments_lexer": "ipython3",
   "version": "3.12.0"
  }
 },
 "nbformat": 4,
 "nbformat_minor": 2
}
