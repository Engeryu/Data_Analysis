{
 "cells": [
  {
   "cell_type": "code",
   "execution_count": null,
   "metadata": {},
   "outputs": [],
   "source": [
    "# Bibliothèques générales\n",
    "import pandas as pd, numpy as np, datetime as dt, time\n",
    "from pandas.api.types import CategoricalDtype\n",
    "from IPython.display import display"
   ]
  },
  {
   "cell_type": "code",
   "execution_count": null,
   "metadata": {},
   "outputs": [],
   "source": [
    "acquis = pd.read_excel('Analyst_Database.xlsx', sheet_name=None)\n",
    "\n",
    "pd.set_option('display.width', None)\n",
    "pd.set_option('display.max_columns', None)\n",
    "pd.set_option('display.max_rows', 200)\n",
    "# Lister les noms des feuilles de calcul\n",
    "feuilles = acquis.keys()\n",
    "# Afficher les noms des feuilles\n",
    "for feuille, df in acquis.items():\n",
    "    print(f\"Feuille : {feuille}\")\n",
    "    print(sorted(df.columns))"
   ]
  },
  {
   "cell_type": "code",
   "execution_count": null,
   "metadata": {},
   "outputs": [],
   "source": [
    "display(acquis['course_project'])\n",
    "display(acquis['course_project'].info())"
   ]
  },
  {
   "cell_type": "code",
   "execution_count": null,
   "metadata": {},
   "outputs": [],
   "source": [
    "acquis['course_project'].set_index('id_projet', inplace=True)"
   ]
  },
  {
   "cell_type": "code",
   "execution_count": null,
   "metadata": {},
   "outputs": [],
   "source": [
    "display(acquis['course_project'])\n",
    "display(acquis['course_project'].info())"
   ]
  },
  {
   "cell_type": "code",
   "execution_count": null,
   "metadata": {},
   "outputs": [],
   "source": [
    "# conversion = {\n",
    "#     '20':'category',\n",
    "#     '21':'category',\n",
    "#     '22':'category',\n",
    "#     '23':'category',\n",
    "#     '24':'category',\n",
    "#     '25':'category',\n",
    "#     '26':'category',\n",
    "#     '27':'category',\n",
    "#     '28':'category',\n",
    "#     '29':'category',\n",
    "#     '30':'category',\n",
    "#     '31':'category',\n",
    "#     '32':'category',\n",
    "#     '33':'category',\n",
    "#     '34':'category',\n",
    "#     '35':'category',\n",
    "#     '36':'category',\n",
    "#     '37':'category',\n",
    "#     '38':'category',\n",
    "#     '39':'category',\n",
    "#     '40':'category',\n",
    "#     '41':'category',\n",
    "#     '42':'category',\n",
    "#     '43':'category',\n",
    "#     '44':'category',\n",
    "#     '45':'category',\n",
    "#     '46':'category',\n",
    "#     '47':'category',\n",
    "#     '48':'category',\n",
    "#     '49':'category',\n",
    "#     '50':'category',\n",
    "#     '51':'category',\n",
    "#     '52':'category',\n",
    "# }\n",
    "# acquis['techno_project'] = acquis['techno_project'].astype(conversion)\n",
    "# display(acquis['techno_project'].info())\n",
    "conversion = {\n",
    "    '1':'category',\n",
    "    '2':'category',\n",
    "    '3':'category',\n",
    "    '4':'category',\n",
    "    '5':'category',\n",
    "    '6':'category',\n",
    "    '7':'category',\n",
    "    '8':'category',\n",
    "    '9':'category',\n",
    "    '10':'category',\n",
    "    '11':'category',\n",
    "    '12':'category',\n",
    "    '13':'category',\n",
    "    '14':'category',\n",
    "    '15':'category',\n",
    "    '16':'category',\n",
    "    '17':'category',\n",
    "    '18':'category',\n",
    "    '19':'category',\n",
    "}\n",
    "acquis['techno_project'] = acquis['techno_project'].astype(conversion)\n",
    "display(acquis['techno_project'].info())"
   ]
  },
  {
   "cell_type": "code",
   "execution_count": null,
   "metadata": {},
   "outputs": [],
   "source": [
    "acquis['course_project'] = acquis['course_project'].stack()\n",
    "display(acquis['course_project']) "
   ]
  },
  {
   "cell_type": "code",
   "execution_count": null,
   "metadata": {},
   "outputs": [],
   "source": [
    "acquis['course_project'].index.get_level_values(0)\n",
    "acquis['course_project'] = pd.DataFrame(acquis['course_project'])\n",
    "display(acquis['course_project'])"
   ]
  },
  {
   "cell_type": "code",
   "execution_count": null,
   "metadata": {},
   "outputs": [],
   "source": [
    "acquis['course_project'] = acquis['course_project'].loc[(acquis['course_project'] != 0).all(axis=1)]\n",
    "display(acquis['course_project'])"
   ]
  },
  {
   "cell_type": "code",
   "execution_count": null,
   "metadata": {},
   "outputs": [],
   "source": [
    "acquis['course_project'] = acquis['course_project'].reset_index()\n",
    "acquis['course_project'] = acquis['course_project'].drop(0, axis=1)\n",
    "acquis['course_project'] = acquis['course_project'].rename(columns={'level_1': 'id_course'})\n",
    "display(acquis['course_project'])"
   ]
  },
  {
   "cell_type": "code",
   "execution_count": null,
   "metadata": {},
   "outputs": [],
   "source": [
    "display(acquis['course_project'].info())"
   ]
  },
  {
   "cell_type": "code",
   "execution_count": null,
   "metadata": {},
   "outputs": [],
   "source": [
    "with pd.ExcelWriter('Analyst_DataBase.xlsx', mode='a', engine='openpyxl') as writer:\n",
    "    acquis['course_project'].to_excel(writer, sheet_name='course_project1', index=False)"
   ]
  }
 ],
 "metadata": {
  "kernelspec": {
   "display_name": "Python 3",
   "language": "python",
   "name": "python3"
  },
  "language_info": {
   "codemirror_mode": {
    "name": "ipython",
    "version": 3
   },
   "file_extension": ".py",
   "mimetype": "text/x-python",
   "name": "python",
   "nbconvert_exporter": "python",
   "pygments_lexer": "ipython3",
   "version": "3.12.0"
  }
 },
 "nbformat": 4,
 "nbformat_minor": 2
}
